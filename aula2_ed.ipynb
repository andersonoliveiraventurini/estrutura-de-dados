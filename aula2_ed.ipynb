{
  "nbformat": 4,
  "nbformat_minor": 0,
  "metadata": {
    "colab": {
      "provenance": [],
      "authorship_tag": "ABX9TyNHgNKxlHg7m864E+4agVMd",
      "include_colab_link": true
    },
    "kernelspec": {
      "name": "python3",
      "display_name": "Python 3"
    },
    "language_info": {
      "name": "python"
    }
  },
  "cells": [
    {
      "cell_type": "markdown",
      "metadata": {
        "id": "view-in-github",
        "colab_type": "text"
      },
      "source": [
        "<a href=\"https://colab.research.google.com/github/andersonoliveiraventurini/estrutura-de-dados/blob/main/aula2_ed.ipynb\" target=\"_parent\"><img src=\"https://colab.research.google.com/assets/colab-badge.svg\" alt=\"Open In Colab\"/></a>"
      ]
    },
    {
      "cell_type": "markdown",
      "source": [
        "**Lista** é uma forma de estrutura de dados"
      ],
      "metadata": {
        "id": "JGnstFzfqa_y"
      }
    },
    {
      "cell_type": "code",
      "execution_count": 4,
      "metadata": {
        "id": "N7YmcT8UmDOc"
      },
      "outputs": [],
      "source": [
        "# cria lista com uma string\n",
        "lista = [\"carro, de, corrida\"]"
      ]
    },
    {
      "cell_type": "code",
      "source": [
        "type(lista)"
      ],
      "metadata": {
        "colab": {
          "base_uri": "https://localhost:8080/"
        },
        "id": "y1JBo7aMmKPJ",
        "outputId": "71634d61-1bb2-4d2d-cf97-8ae3a95d7765"
      },
      "execution_count": 5,
      "outputs": [
        {
          "output_type": "execute_result",
          "data": {
            "text/plain": [
              "list"
            ]
          },
          "metadata": {},
          "execution_count": 5
        }
      ]
    },
    {
      "cell_type": "code",
      "source": [
        "print(lista)"
      ],
      "metadata": {
        "colab": {
          "base_uri": "https://localhost:8080/"
        },
        "id": "pqqyDplbmVjD",
        "outputId": "99e568b6-a563-48aa-c934-6a452595e13f"
      },
      "execution_count": 6,
      "outputs": [
        {
          "output_type": "stream",
          "name": "stdout",
          "text": [
            "['carro, de, corrida']\n"
          ]
        }
      ]
    },
    {
      "cell_type": "code",
      "source": [
        "# lista de strings (com 3 strings independetes)\n",
        "lista2 = [\"carro\", \"de\", \"corrida\" ]"
      ],
      "metadata": {
        "id": "osuR1L2HmXCq"
      },
      "execution_count": 10,
      "outputs": []
    },
    {
      "cell_type": "code",
      "source": [
        "type(lista2)"
      ],
      "metadata": {
        "colab": {
          "base_uri": "https://localhost:8080/"
        },
        "id": "Kfw1p78wmmDt",
        "outputId": "d8263cb9-a43c-4c6c-d5f4-1f539e25ff64"
      },
      "execution_count": 11,
      "outputs": [
        {
          "output_type": "execute_result",
          "data": {
            "text/plain": [
              "list"
            ]
          },
          "metadata": {},
          "execution_count": 11
        }
      ]
    },
    {
      "cell_type": "code",
      "source": [
        "print(lista2)"
      ],
      "metadata": {
        "colab": {
          "base_uri": "https://localhost:8080/"
        },
        "id": "i6Wek3HNmp4U",
        "outputId": "8d047c4d-afab-41fd-b60c-2b3d79835a16"
      },
      "execution_count": 12,
      "outputs": [
        {
          "output_type": "stream",
          "name": "stdout",
          "text": [
            "['carro', 'de', 'corrida']\n"
          ]
        }
      ]
    },
    {
      "cell_type": "code",
      "source": [
        "lista3 = [20, 12, \"carro de corrida\"]"
      ],
      "metadata": {
        "id": "YS_fACrDn4WE"
      },
      "execution_count": 13,
      "outputs": []
    },
    {
      "cell_type": "code",
      "source": [
        "type(lista3)"
      ],
      "metadata": {
        "colab": {
          "base_uri": "https://localhost:8080/"
        },
        "id": "GIHXc_K7oE59",
        "outputId": "654a3de2-b387-4a44-fc4d-59b1d02ae39d"
      },
      "execution_count": 14,
      "outputs": [
        {
          "output_type": "execute_result",
          "data": {
            "text/plain": [
              "list"
            ]
          },
          "metadata": {},
          "execution_count": 14
        }
      ]
    },
    {
      "cell_type": "code",
      "source": [
        "print(lista3)"
      ],
      "metadata": {
        "colab": {
          "base_uri": "https://localhost:8080/"
        },
        "id": "aJdlb5lCoGxV",
        "outputId": "984f1b01-28d6-4dda-c344-28d1e840e3dc"
      },
      "execution_count": 15,
      "outputs": [
        {
          "output_type": "stream",
          "name": "stdout",
          "text": [
            "[20, 12, 'carro de corrida']\n"
          ]
        }
      ]
    },
    {
      "cell_type": "code",
      "source": [
        "#Atribuindo os valores da lista aos itens - índices são com colchetes\n",
        "item1 = lista3[0]\n",
        "item2 = lista3[1]\n",
        "item3 = lista3[2]\n",
        "item4 = lista3[-1]\n",
        "item5 = lista3[-2]\n",
        "item6 = lista3[-3]"
      ],
      "metadata": {
        "id": "hIG30vzCoRcO"
      },
      "execution_count": 19,
      "outputs": []
    },
    {
      "cell_type": "code",
      "source": [
        "# manipulamos de maneira adequada? O indixe não existe na lista\n",
        "item7 = lista3[-5]"
      ],
      "metadata": {
        "id": "eOt3NzR-qKOx"
      },
      "execution_count": null,
      "outputs": []
    },
    {
      "cell_type": "markdown",
      "source": [],
      "metadata": {
        "id": "VN4z_4J2qZ7l"
      }
    },
    {
      "cell_type": "code",
      "source": [
        "print(item1, item2, item3, item4, item5, item6)"
      ],
      "metadata": {
        "colab": {
          "base_uri": "https://localhost:8080/"
        },
        "id": "kB0EksPmof8A",
        "outputId": "041a1529-b902-4458-e066-80cc2c837569"
      },
      "execution_count": 20,
      "outputs": [
        {
          "output_type": "stream",
          "name": "stdout",
          "text": [
            "20 12 carro de corrida carro de corrida 12 20\n"
          ]
        }
      ]
    },
    {
      "cell_type": "code",
      "source": [
        "#posição 0 recebe um novo valor\n",
        "lista3[0] = \"texto\""
      ],
      "metadata": {
        "id": "Ii8MIvNMpHCL"
      },
      "execution_count": 21,
      "outputs": []
    },
    {
      "cell_type": "code",
      "source": [
        "#imprime lista alterada\n",
        "print(lista3)"
      ],
      "metadata": {
        "colab": {
          "base_uri": "https://localhost:8080/"
        },
        "id": "g2jxfE88pMNb",
        "outputId": "ba73c7b3-3f68-4d39-fc2b-ba918fa2397d"
      },
      "execution_count": 22,
      "outputs": [
        {
          "output_type": "stream",
          "name": "stdout",
          "text": [
            "['texto', 12, 'carro de corrida']\n"
          ]
        }
      ]
    },
    {
      "cell_type": "code",
      "source": [
        "del lista3[0]"
      ],
      "metadata": {
        "id": "yGURB8F6p8mY"
      },
      "execution_count": 23,
      "outputs": []
    },
    {
      "cell_type": "code",
      "source": [
        "print(lista3)"
      ],
      "metadata": {
        "colab": {
          "base_uri": "https://localhost:8080/"
        },
        "id": "mhfdfOasqDdR",
        "outputId": "da9869ef-3390-4422-e5ea-0b23d04f8d3e"
      },
      "execution_count": 24,
      "outputs": [
        {
          "output_type": "stream",
          "name": "stdout",
          "text": [
            "[12, 'carro de corrida']\n"
          ]
        }
      ]
    },
    {
      "cell_type": "markdown",
      "source": [
        "**Pilha**\n",
        "\n",
        "Pilha não é para perfomance de acesso em uma busca, por exemplo, mas pode ser utilizada de maneira muito prática para registrar um histórico (de navegação, log's, ...)"
      ],
      "metadata": {
        "id": "F95-bmPbqtRc"
      }
    },
    {
      "cell_type": "markdown",
      "source": [],
      "metadata": {
        "id": "LlElorVPqs4s"
      }
    }
  ]
}